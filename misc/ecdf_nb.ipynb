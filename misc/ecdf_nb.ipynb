{
 "cells": [
  {
   "cell_type": "markdown",
   "metadata": {},
   "source": [
    "## ECDF Example Notebook\n",
    "- This notebook serves as an example of using ECDFs instead of histograms for data visualizaton.\n",
    "  - ECDF stand for the \"empirical cumulative distribution function\", and they map every data point in the dataset to a quantile, which is a number between 0 and 1 that indicates the cumulative fraction of data points smaller than that data point itself.\n",
    "- Reference links can be found below:\n",
    "  - Allen Downey Twitter conversation [here](https://twitter.com/allendowney/status/1019171696572583936)\n",
    "  - Eric Ma's blog post [here](https://ericmjl.github.io/blog/2018/7/14/ecdfs/)\n",
    "- **This notebook is a copy from Eric Ma's thoughts (not my own)**\n",
    "\n",
    "  \n",
    "### TL;DR\n",
    "- We can more easily identify central tendency measures, in particular, the median, compared to a histogram.\n",
    "- We can much more easily identify other percentile values, compared to a histogram.\n",
    "- We become less susceptible to outliers arising from binning issues.\n",
    "- It is more difficult to hide multiple modes.\n",
    "- We can easily identify repeat values."
   ]
  },
  {
   "cell_type": "code",
   "execution_count": 1,
   "metadata": {},
   "outputs": [],
   "source": [
    "import numpy as np\n",
    "import seaborn as sns\n",
    "import matplotlib.pyplot as plt\n",
    "%matplotlib inline"
   ]
  },
  {
   "cell_type": "markdown",
   "metadata": {},
   "source": [
    "### Data 1 Typical Histogram Example"
   ]
  },
  {
   "cell_type": "code",
   "execution_count": 2,
   "metadata": {},
   "outputs": [
    {
     "data": {
      "text/plain": [
       "array([ 1.32969688, -0.69374442, -0.34807104,  1.37701731, -1.22449176,\n",
       "        0.05418915,  0.2428482 ,  0.79424913,  1.26577726,  0.42515345,\n",
       "        0.50844953, -0.71160564,  1.18547968,  0.64012741, -0.45944513,\n",
       "        1.41031151, -0.90420607,  0.47763045,  0.92088013, -2.37175013,\n",
       "       -0.42859351,  0.11704078,  0.86308618, -1.33907291, -1.05524031,\n",
       "        0.31846311, -0.65190886,  0.30275171,  0.41942187, -0.30000629,\n",
       "       -0.09377795, -0.55801574, -0.88941878, -0.56819666, -1.7531623 ,\n",
       "       -0.3678947 ,  0.46248429,  0.94448271,  0.5850258 ,  0.61233392,\n",
       "        1.34454403, -0.55971666,  1.28324294, -0.90489799,  0.40707269,\n",
       "       -0.19738617,  0.56719618,  1.72939779,  1.1495597 , -1.670578  ])"
      ]
     },
     "execution_count": 2,
     "metadata": {},
     "output_type": "execute_result"
    }
   ],
   "source": [
    "# 50 random points with center of 0 and st dev of 1\n",
    "data1 = np.random.normal(loc=0, scale=1, size=50)\n",
    "data1"
   ]
  },
  {
   "cell_type": "code",
   "execution_count": 3,
   "metadata": {},
   "outputs": [
    {
     "data": {
      "image/png": "[encoded data removed]",
      "text/plain": [
       "<Figure size 432x288 with 1 Axes>"
      ]
     },
     "metadata": {
      "needs_background": "light"
     },
     "output_type": "display_data"
    }
   ],
   "source": [
    "# Typical viz used\n",
    "plt.hist(data1);"
   ]
  },
  {
   "cell_type": "markdown",
   "metadata": {},
   "source": [
    "### Data 2 Typical Histogram Example"
   ]
  },
  {
   "cell_type": "code",
   "execution_count": 4,
   "metadata": {},
   "outputs": [
    {
     "data": {
      "text/plain": [
       "array([1, 3, 4, 4, 3, 1, 4, 3, 5, 5, 5, 4, 3, 1, 3, 2, 2, 3, 3, 3, 2, 3,\n",
       "       1, 5, 4, 1, 5, 3, 4, 4, 3, 3, 4, 4, 2, 2, 4, 2, 4, 1, 4, 3, 1, 2,\n",
       "       1, 2, 4, 2, 1, 4])"
      ]
     },
     "execution_count": 4,
     "metadata": {},
     "output_type": "execute_result"
    }
   ],
   "source": [
    "# 50 random points draw from [1,2,3,4,5]\n",
    "data2 = np.random.choice([1,2,3,4,5], 50)\n",
    "data2"
   ]
  },
  {
   "cell_type": "code",
   "execution_count": 5,
   "metadata": {},
   "outputs": [
    {
     "data": {
      "image/png": "[encoded data removed]",
      "text/plain": [
       "<Figure size 432x288 with 1 Axes>"
      ]
     },
     "metadata": {
      "needs_background": "light"
     },
     "output_type": "display_data"
    }
   ],
   "source": [
    "# Typical viz used\n",
    "plt.hist(data2);"
   ]
  },
  {
   "cell_type": "markdown",
   "metadata": {},
   "source": [
    "### ECDF"
   ]
  },
  {
   "cell_type": "code",
   "execution_count": 6,
   "metadata": {},
   "outputs": [],
   "source": [
    "def ecdf(data):\n",
    "    \"\"\"Compute ECDF for a one-dimensional array of measurements.\"\"\"\n",
    "    # Number of data points\n",
    "    n = len(data)\n",
    "\n",
    "    # x-data for the ECDF\n",
    "    x = np.sort(data)\n",
    "\n",
    "    # y-data for the ECDF\n",
    "    y = np.arange(1, n+1) / n\n",
    "\n",
    "    return x, y"
   ]
  },
  {
   "cell_type": "markdown",
   "metadata": {},
   "source": [
    "### Data 1 ECDF Example"
   ]
  },
  {
   "cell_type": "code",
   "execution_count": 7,
   "metadata": {},
   "outputs": [
    {
     "data": {
      "text/plain": [
       "array([ 1.32969688, -0.69374442, -0.34807104,  1.37701731, -1.22449176,\n",
       "        0.05418915,  0.2428482 ,  0.79424913,  1.26577726,  0.42515345,\n",
       "        0.50844953, -0.71160564,  1.18547968,  0.64012741, -0.45944513,\n",
       "        1.41031151, -0.90420607,  0.47763045,  0.92088013, -2.37175013,\n",
       "       -0.42859351,  0.11704078,  0.86308618, -1.33907291, -1.05524031,\n",
       "        0.31846311, -0.65190886,  0.30275171,  0.41942187, -0.30000629,\n",
       "       -0.09377795, -0.55801574, -0.88941878, -0.56819666, -1.7531623 ,\n",
       "       -0.3678947 ,  0.46248429,  0.94448271,  0.5850258 ,  0.61233392,\n",
       "        1.34454403, -0.55971666,  1.28324294, -0.90489799,  0.40707269,\n",
       "       -0.19738617,  0.56719618,  1.72939779,  1.1495597 , -1.670578  ])"
      ]
     },
     "execution_count": 7,
     "metadata": {},
     "output_type": "execute_result"
    }
   ],
   "source": [
    "data1"
   ]
  },
  {
   "cell_type": "code",
   "execution_count": 8,
   "metadata": {},
   "outputs": [
    {
     "data": {
      "text/plain": [
       "50"
      ]
     },
     "execution_count": 8,
     "metadata": {},
     "output_type": "execute_result"
    }
   ],
   "source": [
    "len(data1)"
   ]
  },
  {
   "cell_type": "code",
   "execution_count": 9,
   "metadata": {},
   "outputs": [
    {
     "data": {
      "text/plain": [
       "array([-2.37175013, -1.7531623 , -1.670578  , -1.33907291, -1.22449176,\n",
       "       -1.05524031, -0.90489799, -0.90420607, -0.88941878, -0.71160564,\n",
       "       -0.69374442, -0.65190886, -0.56819666, -0.55971666, -0.55801574,\n",
       "       -0.45944513, -0.42859351, -0.3678947 , -0.34807104, -0.30000629,\n",
       "       -0.19738617, -0.09377795,  0.05418915,  0.11704078,  0.2428482 ,\n",
       "        0.30275171,  0.31846311,  0.40707269,  0.41942187,  0.42515345,\n",
       "        0.46248429,  0.47763045,  0.50844953,  0.56719618,  0.5850258 ,\n",
       "        0.61233392,  0.64012741,  0.79424913,  0.86308618,  0.92088013,\n",
       "        0.94448271,  1.1495597 ,  1.18547968,  1.26577726,  1.28324294,\n",
       "        1.32969688,  1.34454403,  1.37701731,  1.41031151,  1.72939779])"
      ]
     },
     "execution_count": 9,
     "metadata": {},
     "output_type": "execute_result"
    }
   ],
   "source": [
    "np.sort(data1)"
   ]
  },
  {
   "cell_type": "code",
   "execution_count": 10,
   "metadata": {},
   "outputs": [
    {
     "data": {
      "text/plain": [
       "array([ 1,  2,  3,  4,  5,  6,  7,  8,  9, 10, 11, 12, 13, 14, 15, 16, 17,\n",
       "       18, 19, 20, 21, 22, 23, 24, 25, 26, 27, 28, 29, 30, 31, 32, 33, 34,\n",
       "       35, 36, 37, 38, 39, 40, 41, 42, 43, 44, 45, 46, 47, 48, 49, 50])"
      ]
     },
     "execution_count": 10,
     "metadata": {},
     "output_type": "execute_result"
    }
   ],
   "source": [
    "np.arange(1, len(data1)+1)"
   ]
  },
  {
   "cell_type": "code",
   "execution_count": 11,
   "metadata": {},
   "outputs": [
    {
     "data": {
      "text/plain": [
       "array([0.02, 0.04, 0.06, 0.08, 0.1 , 0.12, 0.14, 0.16, 0.18, 0.2 , 0.22,\n",
       "       0.24, 0.26, 0.28, 0.3 , 0.32, 0.34, 0.36, 0.38, 0.4 , 0.42, 0.44,\n",
       "       0.46, 0.48, 0.5 , 0.52, 0.54, 0.56, 0.58, 0.6 , 0.62, 0.64, 0.66,\n",
       "       0.68, 0.7 , 0.72, 0.74, 0.76, 0.78, 0.8 , 0.82, 0.84, 0.86, 0.88,\n",
       "       0.9 , 0.92, 0.94, 0.96, 0.98, 1.  ])"
      ]
     },
     "execution_count": 11,
     "metadata": {},
     "output_type": "execute_result"
    }
   ],
   "source": [
    "np.arange(1, len(data1)+1) / len(data1)"
   ]
  },
  {
   "cell_type": "code",
   "execution_count": 12,
   "metadata": {},
   "outputs": [
    {
     "data": {
      "image/png": "[encoded data removed]",
      "text/plain": [
       "<Figure size 432x288 with 1 Axes>"
      ]
     },
     "metadata": {
      "needs_background": "light"
     },
     "output_type": "display_data"
    }
   ],
   "source": [
    "# Generate x- and y-data for the ECDF\n",
    "x_ecdf, y_ecdf = ecdf(data1)\n",
    "\n",
    "# Plot the ECDF\n",
    "plt.plot(x_ecdf, y_ecdf, marker='.', linestyle='none');"
   ]
  },
  {
   "cell_type": "markdown",
   "metadata": {},
   "source": [
    "### Data 2 ECDF Example"
   ]
  },
  {
   "cell_type": "code",
   "execution_count": 13,
   "metadata": {},
   "outputs": [
    {
     "data": {
      "text/plain": [
       "array([1, 3, 4, 4, 3, 1, 4, 3, 5, 5, 5, 4, 3, 1, 3, 2, 2, 3, 3, 3, 2, 3,\n",
       "       1, 5, 4, 1, 5, 3, 4, 4, 3, 3, 4, 4, 2, 2, 4, 2, 4, 1, 4, 3, 1, 2,\n",
       "       1, 2, 4, 2, 1, 4])"
      ]
     },
     "execution_count": 13,
     "metadata": {},
     "output_type": "execute_result"
    }
   ],
   "source": [
    "data2"
   ]
  },
  {
   "cell_type": "code",
   "execution_count": 14,
   "metadata": {},
   "outputs": [
    {
     "data": {
      "text/plain": [
       "50"
      ]
     },
     "execution_count": 14,
     "metadata": {},
     "output_type": "execute_result"
    }
   ],
   "source": [
    "len(data2)"
   ]
  },
  {
   "cell_type": "code",
   "execution_count": 15,
   "metadata": {},
   "outputs": [
    {
     "data": {
      "text/plain": [
       "array([1, 1, 1, 1, 1, 1, 1, 1, 1, 2, 2, 2, 2, 2, 2, 2, 2, 2, 3, 3, 3, 3,\n",
       "       3, 3, 3, 3, 3, 3, 3, 3, 3, 4, 4, 4, 4, 4, 4, 4, 4, 4, 4, 4, 4, 4,\n",
       "       4, 5, 5, 5, 5, 5])"
      ]
     },
     "execution_count": 15,
     "metadata": {},
     "output_type": "execute_result"
    }
   ],
   "source": [
    "np.sort(data2)"
   ]
  },
  {
   "cell_type": "code",
   "execution_count": 16,
   "metadata": {},
   "outputs": [
    {
     "data": {
      "text/plain": [
       "array([ 1,  2,  3,  4,  5,  6,  7,  8,  9, 10, 11, 12, 13, 14, 15, 16, 17,\n",
       "       18, 19, 20, 21, 22, 23, 24, 25, 26, 27, 28, 29, 30, 31, 32, 33, 34,\n",
       "       35, 36, 37, 38, 39, 40, 41, 42, 43, 44, 45, 46, 47, 48, 49, 50])"
      ]
     },
     "execution_count": 16,
     "metadata": {},
     "output_type": "execute_result"
    }
   ],
   "source": [
    "np.arange(1, len(data2)+1)"
   ]
  },
  {
   "cell_type": "code",
   "execution_count": 17,
   "metadata": {},
   "outputs": [
    {
     "data": {
      "text/plain": [
       "array([0.02, 0.04, 0.06, 0.08, 0.1 , 0.12, 0.14, 0.16, 0.18, 0.2 , 0.22,\n",
       "       0.24, 0.26, 0.28, 0.3 , 0.32, 0.34, 0.36, 0.38, 0.4 , 0.42, 0.44,\n",
       "       0.46, 0.48, 0.5 , 0.52, 0.54, 0.56, 0.58, 0.6 , 0.62, 0.64, 0.66,\n",
       "       0.68, 0.7 , 0.72, 0.74, 0.76, 0.78, 0.8 , 0.82, 0.84, 0.86, 0.88,\n",
       "       0.9 , 0.92, 0.94, 0.96, 0.98, 1.  ])"
      ]
     },
     "execution_count": 17,
     "metadata": {},
     "output_type": "execute_result"
    }
   ],
   "source": [
    "np.arange(1, len(data2)+1) / len(data2)"
   ]
  },
  {
   "cell_type": "code",
   "execution_count": 18,
   "metadata": {},
   "outputs": [
    {
     "data": {
      "image/png": "[encoded data removed]",
      "text/plain": [
       "<Figure size 432x288 with 1 Axes>"
      ]
     },
     "metadata": {
      "needs_background": "light"
     },
     "output_type": "display_data"
    }
   ],
   "source": [
    "# Generate x- and y-data for the ECDF\n",
    "x_ecdf, y_ecdf = ecdf(data2)\n",
    "\n",
    "# Plot the ECDF\n",
    "plt.plot(x_ecdf, y_ecdf, marker='.', linestyle='none');"
   ]
  },
  {
   "cell_type": "code",
   "execution_count": 19,
   "metadata": {},
   "outputs": [],
   "source": [
    "def compare(data):\n",
    "    # Set up figure\n",
    "    fig     = plt.figure(figsize=(8, 4))\n",
    "\n",
    "    ax_ecdf = fig.add_subplot(121)\n",
    "    ax_hist = fig.add_subplot(122)\n",
    "\n",
    "    ax_ecdf.set_title('ecdf')\n",
    "    ax_hist.set_title('histogram')\n",
    "\n",
    "    # Plot histogram\n",
    "    ax_hist.hist(data)\n",
    "\n",
    "    # Plot ECDF\n",
    "    x_ecdf, y_ecdf = ecdf(data)\n",
    "    ax_ecdf.plot(x_ecdf, y_ecdf, marker='.', linestyle='none');"
   ]
  },
  {
   "cell_type": "code",
   "execution_count": 20,
   "metadata": {},
   "outputs": [
    {
     "data": {
      "image/png": "[encoded data removed]",
      "text/plain": [
       "<Figure size 576x288 with 2 Axes>"
      ]
     },
     "metadata": {
      "needs_background": "light"
     },
     "output_type": "display_data"
    }
   ],
   "source": [
    "compare(data1)"
   ]
  },
  {
   "cell_type": "code",
   "execution_count": 21,
   "metadata": {},
   "outputs": [
    {
     "data": {
      "image/png": "[encoded data removed]",
      "text/plain": [
       "<Figure size 576x288 with 2 Axes>"
      ]
     },
     "metadata": {
      "needs_background": "light"
     },
     "output_type": "display_data"
    }
   ],
   "source": [
    "compare(data2)"
   ]
  },
  {
   "cell_type": "markdown",
   "metadata": {},
   "source": [
    "**Is the central tendency measure easily discoverable?** The median is easily discoverable on the ECDF: Draw a horizontal line from 0.5 on the y-axis until it crosses a data point, and then drop a line down to the x-axis to get the median value.\n",
    "\n",
    "**Are percentiles easily discoverable?** It's much clearer that the answer is \"yes\" for the ECDF, and \"no\" for the histogram.\n",
    "\n",
    "**What is the value of the potential outlier?** Difficult to tell on the histogram. On the other hand, just drop a line down from the suspected outliers to the x-axis to read off their values.\n",
    "\n",
    "**Are there repeat values?** You can't tell in a histogram. However, it's evidently clear on the ECDF scatterplot when there's repeat values -- they show up on the plot as vertical stacks of dots. (Repeat-values might be important when working with, say, a zero- or X-inflated distribution.)"
   ]
  },
  {
   "cell_type": "code",
   "execution_count": null,
   "metadata": {},
   "outputs": [],
   "source": []
  }
 ],
 "metadata": {
  "kernelspec": {
   "display_name": "Python 3",
   "language": "python",
   "name": "python3"
  },
  "language_info": {
   "codemirror_mode": {
    "name": "ipython",
    "version": 3
   },
   "file_extension": ".py",
   "mimetype": "text/x-python",
   "name": "python",
   "nbconvert_exporter": "python",
   "pygments_lexer": "ipython3",
   "version": "3.7.0"
  }
 },
 "nbformat": 4,
 "nbformat_minor": 2
}
